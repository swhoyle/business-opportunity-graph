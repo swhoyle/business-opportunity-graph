import pandas as pd
import osmx as ox
import cenpy





##cities_names_list =sd_cities_boundaries['City'].unique()  
#read from the sql file instead

acs = cenpy.products.ACS()

attribute_variables = ['B03002_001E','B09019_001E']
cities_attributes_data = [['City', "Area", "Total Population", 'Intersection Count', 'Street Density', 'Total Households']]

for city in cities_names_list:
  city_data =[]
  place_name = city + ', CA'
  city_gdf = ox.geocode_to_gdf(place_name) #from gemini
  city_geometry = city_gdf.geometry.iloc[0] #from gemini
  // city_area = sd_cities_boundaries[sd_cities_boundaries['City']==city].to_crs('EPSG:26946').area
  city_area_m2 = ox.project_gdf(city_gdf).area.iloc[0] # Area in square meters #from gemini
  city_area = city_area_m2 / (1000 * 1000) # Convert to square kilometers for the area variable if needed #from gemini

  city_pop_gdf = acs.from_place(place_name, variables=attribute_variables)
  city_pop_tot = city_pop_gdf['B03002_001E'].sum()
  city_tot_household = city_pop_gdf['B09019_001E'].sum()
  G_city_drive = ox.graph.graph_from_place(place_name, network_type="drive")
  city_street_stats = ox.stats.basic_stats(G_city_drive, area=city_area)
  city_intersection_count = city_street_stats['intersection_count']
  city_street_density_km =city_street_stats['street_density_km']
  city_data = [city,city_area, city_pop_tot, city_intersection_count, city_street_density_km, city_tot_household]
  cities_attributes_data.append(city_data)







// use this code instead if using the city boundaries zip

// boundaries_zip = 'City_and_County_Boundaries.zip'
// boundaries = gpd.read_file(boundaries_path)

// boundaries = boundaries.to_crs(common_crs)
//sd_boundaries = boundaries[boundaries['COUNTY_NAM'] == 'San Diego']
// sd_boundaries_land = sd_boundaries[sd_boundaries['TYPE'] == 'Land']
// sd_boundaries_constructed = sd_boundaries[sd_boundaries['TYPE'] == 'Constructed']
// sd_city_boundaries = sd_boundaries[sd_boundaries['CITY'] == 'San Diego'].rename(columns={"CITY": "City"}).dissolve(by= 'City').reset_index()
// sd_boundaries_mixed = sd_boundaries[['CITY','geometry']]
// sd_cities_boundaries= sd_boundaries_mixed.rename(columns={"CITY": "City"}).dissolve(by= 'City').reset_index()
// sd_cities_final = sd_cities_boundaries.copy()
// sd_cities_final['area'] = sd_cities_final.to_crs('EPSG:26946').area


    
